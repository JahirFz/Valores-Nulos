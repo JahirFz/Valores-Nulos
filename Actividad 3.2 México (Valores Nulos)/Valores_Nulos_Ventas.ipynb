{
 "cells": [
  {
   "cell_type": "markdown",
   "metadata": {},
   "source": [
    "**IMPORTAR LIBRERÍAS**"
   ]
  },
  {
   "cell_type": "code",
   "execution_count": 28,
   "metadata": {},
   "outputs": [],
   "source": [
    "import pandas as pd\n",
    "import numpy as np \n",
    "import matplotlib.pyplot as plt \n",
    "import seaborn as sns"
   ]
  },
  {
   "cell_type": "markdown",
   "metadata": {},
   "source": [
    "**CARGAMOS EL ARCHIVO CSV**"
   ]
  },
  {
   "cell_type": "code",
   "execution_count": 29,
   "metadata": {},
   "outputs": [
    {
     "data": {
      "text/html": [
       "<div>\n",
       "<style scoped>\n",
       "    .dataframe tbody tr th:only-of-type {\n",
       "        vertical-align: middle;\n",
       "    }\n",
       "\n",
       "    .dataframe tbody tr th {\n",
       "        vertical-align: top;\n",
       "    }\n",
       "\n",
       "    .dataframe thead th {\n",
       "        text-align: right;\n",
       "    }\n",
       "</style>\n",
       "<table border=\"1\" class=\"dataframe\">\n",
       "  <thead>\n",
       "    <tr style=\"text-align: right;\">\n",
       "      <th></th>\n",
       "      <th>id</th>\n",
       "      <th>listing_url</th>\n",
       "      <th>host_id</th>\n",
       "      <th>host_name</th>\n",
       "      <th>host_since</th>\n",
       "      <th>host_location</th>\n",
       "      <th>host_response_time</th>\n",
       "      <th>host_response_rate</th>\n",
       "      <th>host_acceptance_rate</th>\n",
       "      <th>host_is_superhost</th>\n",
       "      <th>...</th>\n",
       "      <th>review_scores_communication</th>\n",
       "      <th>review_scores_location</th>\n",
       "      <th>review_scores_value</th>\n",
       "      <th>license</th>\n",
       "      <th>instant_bookable</th>\n",
       "      <th>calculated_host_listings_count</th>\n",
       "      <th>calculated_host_listings_count_entire_homes</th>\n",
       "      <th>calculated_host_listings_count_private_rooms</th>\n",
       "      <th>calculated_host_listings_count_shared_rooms</th>\n",
       "      <th>reviews_per_month</th>\n",
       "    </tr>\n",
       "  </thead>\n",
       "  <tbody>\n",
       "    <tr>\n",
       "      <th>0</th>\n",
       "      <td>35797</td>\n",
       "      <td>https://www.airbnb.com/rooms/35797</td>\n",
       "      <td>153786</td>\n",
       "      <td>Dici</td>\n",
       "      <td>28/06/2010</td>\n",
       "      <td>Mexico City, Mexico</td>\n",
       "      <td>a few days or more</td>\n",
       "      <td>0%</td>\n",
       "      <td>NaN</td>\n",
       "      <td>f</td>\n",
       "      <td>...</td>\n",
       "      <td>NaN</td>\n",
       "      <td>NaN</td>\n",
       "      <td>NaN</td>\n",
       "      <td>NaN</td>\n",
       "      <td>f</td>\n",
       "      <td>1</td>\n",
       "      <td>1</td>\n",
       "      <td>0</td>\n",
       "      <td>0</td>\n",
       "      <td>NaN</td>\n",
       "    </tr>\n",
       "    <tr>\n",
       "      <th>1</th>\n",
       "      <td>44616</td>\n",
       "      <td>https://www.airbnb.com/rooms/44616</td>\n",
       "      <td>196253</td>\n",
       "      <td>Fernando</td>\n",
       "      <td>09/08/2010</td>\n",
       "      <td>Mexico City, Mexico</td>\n",
       "      <td>within an hour</td>\n",
       "      <td>100%</td>\n",
       "      <td>93%</td>\n",
       "      <td>t</td>\n",
       "      <td>...</td>\n",
       "      <td>4.78</td>\n",
       "      <td>4.98</td>\n",
       "      <td>4.48</td>\n",
       "      <td>NaN</td>\n",
       "      <td>f</td>\n",
       "      <td>8</td>\n",
       "      <td>4</td>\n",
       "      <td>1</td>\n",
       "      <td>0</td>\n",
       "      <td>0.41</td>\n",
       "    </tr>\n",
       "    <tr>\n",
       "      <th>2</th>\n",
       "      <td>67703</td>\n",
       "      <td>https://www.airbnb.com/rooms/67703</td>\n",
       "      <td>334451</td>\n",
       "      <td>Nicholas</td>\n",
       "      <td>04/01/2011</td>\n",
       "      <td>Mexico City, Mexico</td>\n",
       "      <td>within an hour</td>\n",
       "      <td>71%</td>\n",
       "      <td>57%</td>\n",
       "      <td>t</td>\n",
       "      <td>...</td>\n",
       "      <td>4.92</td>\n",
       "      <td>4.98</td>\n",
       "      <td>4.91</td>\n",
       "      <td>NaN</td>\n",
       "      <td>f</td>\n",
       "      <td>2</td>\n",
       "      <td>2</td>\n",
       "      <td>0</td>\n",
       "      <td>0</td>\n",
       "      <td>0.31</td>\n",
       "    </tr>\n",
       "    <tr>\n",
       "      <th>3</th>\n",
       "      <td>70644</td>\n",
       "      <td>https://www.airbnb.com/rooms/70644</td>\n",
       "      <td>212109</td>\n",
       "      <td>Trisha</td>\n",
       "      <td>24/08/2010</td>\n",
       "      <td>Mexico City, Mexico</td>\n",
       "      <td>within a few hours</td>\n",
       "      <td>100%</td>\n",
       "      <td>100%</td>\n",
       "      <td>t</td>\n",
       "      <td>...</td>\n",
       "      <td>4.98</td>\n",
       "      <td>4.96</td>\n",
       "      <td>4.92</td>\n",
       "      <td>NaN</td>\n",
       "      <td>f</td>\n",
       "      <td>3</td>\n",
       "      <td>2</td>\n",
       "      <td>1</td>\n",
       "      <td>0</td>\n",
       "      <td>0.83</td>\n",
       "    </tr>\n",
       "    <tr>\n",
       "      <th>4</th>\n",
       "      <td>107078</td>\n",
       "      <td>https://www.airbnb.com/rooms/107078</td>\n",
       "      <td>540705</td>\n",
       "      <td>Andrea</td>\n",
       "      <td>27/04/2011</td>\n",
       "      <td>Mexico City, Mexico</td>\n",
       "      <td>within an hour</td>\n",
       "      <td>100%</td>\n",
       "      <td>100%</td>\n",
       "      <td>t</td>\n",
       "      <td>...</td>\n",
       "      <td>4.73</td>\n",
       "      <td>4.91</td>\n",
       "      <td>4.82</td>\n",
       "      <td>NaN</td>\n",
       "      <td>f</td>\n",
       "      <td>3</td>\n",
       "      <td>3</td>\n",
       "      <td>0</td>\n",
       "      <td>0</td>\n",
       "      <td>0.11</td>\n",
       "    </tr>\n",
       "    <tr>\n",
       "      <th>...</th>\n",
       "      <td>...</td>\n",
       "      <td>...</td>\n",
       "      <td>...</td>\n",
       "      <td>...</td>\n",
       "      <td>...</td>\n",
       "      <td>...</td>\n",
       "      <td>...</td>\n",
       "      <td>...</td>\n",
       "      <td>...</td>\n",
       "      <td>...</td>\n",
       "      <td>...</td>\n",
       "      <td>...</td>\n",
       "      <td>...</td>\n",
       "      <td>...</td>\n",
       "      <td>...</td>\n",
       "      <td>...</td>\n",
       "      <td>...</td>\n",
       "      <td>...</td>\n",
       "      <td>...</td>\n",
       "      <td>...</td>\n",
       "      <td>...</td>\n",
       "    </tr>\n",
       "    <tr>\n",
       "      <th>26577</th>\n",
       "      <td>1252141718111439700</td>\n",
       "      <td>https://www.airbnb.com/rooms/1252141718111439700</td>\n",
       "      <td>67472234</td>\n",
       "      <td>HostPal</td>\n",
       "      <td>16/04/2016</td>\n",
       "      <td>Mexico City, Mexico</td>\n",
       "      <td>within an hour</td>\n",
       "      <td>100%</td>\n",
       "      <td>100%</td>\n",
       "      <td>t</td>\n",
       "      <td>...</td>\n",
       "      <td>NaN</td>\n",
       "      <td>NaN</td>\n",
       "      <td>NaN</td>\n",
       "      <td>NaN</td>\n",
       "      <td>t</td>\n",
       "      <td>37</td>\n",
       "      <td>14</td>\n",
       "      <td>23</td>\n",
       "      <td>0</td>\n",
       "      <td>NaN</td>\n",
       "    </tr>\n",
       "    <tr>\n",
       "      <th>26578</th>\n",
       "      <td>1252159821531694005</td>\n",
       "      <td>https://www.airbnb.com/rooms/1252159821531694005</td>\n",
       "      <td>596009321</td>\n",
       "      <td>Luis Angel</td>\n",
       "      <td>13/08/2024</td>\n",
       "      <td>Mexico City, Mexico</td>\n",
       "      <td>within an hour</td>\n",
       "      <td>100%</td>\n",
       "      <td>100%</td>\n",
       "      <td>f</td>\n",
       "      <td>...</td>\n",
       "      <td>NaN</td>\n",
       "      <td>NaN</td>\n",
       "      <td>NaN</td>\n",
       "      <td>NaN</td>\n",
       "      <td>t</td>\n",
       "      <td>16</td>\n",
       "      <td>8</td>\n",
       "      <td>8</td>\n",
       "      <td>0</td>\n",
       "      <td>NaN</td>\n",
       "    </tr>\n",
       "    <tr>\n",
       "      <th>26579</th>\n",
       "      <td>1252185591721328995</td>\n",
       "      <td>https://www.airbnb.com/rooms/1252185591721328995</td>\n",
       "      <td>596009321</td>\n",
       "      <td>Luis Angel</td>\n",
       "      <td>13/08/2024</td>\n",
       "      <td>Mexico City, Mexico</td>\n",
       "      <td>within an hour</td>\n",
       "      <td>100%</td>\n",
       "      <td>100%</td>\n",
       "      <td>f</td>\n",
       "      <td>...</td>\n",
       "      <td>NaN</td>\n",
       "      <td>NaN</td>\n",
       "      <td>NaN</td>\n",
       "      <td>NaN</td>\n",
       "      <td>t</td>\n",
       "      <td>16</td>\n",
       "      <td>8</td>\n",
       "      <td>8</td>\n",
       "      <td>0</td>\n",
       "      <td>NaN</td>\n",
       "    </tr>\n",
       "    <tr>\n",
       "      <th>26580</th>\n",
       "      <td>1252218347521498445</td>\n",
       "      <td>https://www.airbnb.com/rooms/1252218347521498445</td>\n",
       "      <td>596009321</td>\n",
       "      <td>Luis Angel</td>\n",
       "      <td>13/08/2024</td>\n",
       "      <td>Mexico City, Mexico</td>\n",
       "      <td>within an hour</td>\n",
       "      <td>100%</td>\n",
       "      <td>100%</td>\n",
       "      <td>f</td>\n",
       "      <td>...</td>\n",
       "      <td>NaN</td>\n",
       "      <td>NaN</td>\n",
       "      <td>NaN</td>\n",
       "      <td>NaN</td>\n",
       "      <td>t</td>\n",
       "      <td>16</td>\n",
       "      <td>8</td>\n",
       "      <td>8</td>\n",
       "      <td>0</td>\n",
       "      <td>NaN</td>\n",
       "    </tr>\n",
       "    <tr>\n",
       "      <th>26581</th>\n",
       "      <td>1252229157495978163</td>\n",
       "      <td>https://www.airbnb.com/rooms/1252229157495978163</td>\n",
       "      <td>6522855</td>\n",
       "      <td>Salvador</td>\n",
       "      <td>22/05/2013</td>\n",
       "      <td>Mexico City, Mexico</td>\n",
       "      <td>within an hour</td>\n",
       "      <td>100%</td>\n",
       "      <td>100%</td>\n",
       "      <td>t</td>\n",
       "      <td>...</td>\n",
       "      <td>NaN</td>\n",
       "      <td>NaN</td>\n",
       "      <td>NaN</td>\n",
       "      <td>NaN</td>\n",
       "      <td>t</td>\n",
       "      <td>4</td>\n",
       "      <td>4</td>\n",
       "      <td>0</td>\n",
       "      <td>0</td>\n",
       "      <td>NaN</td>\n",
       "    </tr>\n",
       "  </tbody>\n",
       "</table>\n",
       "<p>26582 rows × 50 columns</p>\n",
       "</div>"
      ],
      "text/plain": [
       "                        id                                       listing_url  \\\n",
       "0                    35797                https://www.airbnb.com/rooms/35797   \n",
       "1                    44616                https://www.airbnb.com/rooms/44616   \n",
       "2                    67703                https://www.airbnb.com/rooms/67703   \n",
       "3                    70644                https://www.airbnb.com/rooms/70644   \n",
       "4                   107078               https://www.airbnb.com/rooms/107078   \n",
       "...                    ...                                               ...   \n",
       "26577  1252141718111439700  https://www.airbnb.com/rooms/1252141718111439700   \n",
       "26578  1252159821531694005  https://www.airbnb.com/rooms/1252159821531694005   \n",
       "26579  1252185591721328995  https://www.airbnb.com/rooms/1252185591721328995   \n",
       "26580  1252218347521498445  https://www.airbnb.com/rooms/1252218347521498445   \n",
       "26581  1252229157495978163  https://www.airbnb.com/rooms/1252229157495978163   \n",
       "\n",
       "         host_id   host_name  host_since        host_location  \\\n",
       "0         153786        Dici  28/06/2010  Mexico City, Mexico   \n",
       "1         196253    Fernando  09/08/2010  Mexico City, Mexico   \n",
       "2         334451    Nicholas  04/01/2011  Mexico City, Mexico   \n",
       "3         212109      Trisha  24/08/2010  Mexico City, Mexico   \n",
       "4         540705      Andrea  27/04/2011  Mexico City, Mexico   \n",
       "...          ...         ...         ...                  ...   \n",
       "26577   67472234     HostPal  16/04/2016  Mexico City, Mexico   \n",
       "26578  596009321  Luis Angel  13/08/2024  Mexico City, Mexico   \n",
       "26579  596009321  Luis Angel  13/08/2024  Mexico City, Mexico   \n",
       "26580  596009321  Luis Angel  13/08/2024  Mexico City, Mexico   \n",
       "26581    6522855    Salvador  22/05/2013  Mexico City, Mexico   \n",
       "\n",
       "       host_response_time host_response_rate host_acceptance_rate  \\\n",
       "0      a few days or more                 0%                  NaN   \n",
       "1          within an hour               100%                  93%   \n",
       "2          within an hour                71%                  57%   \n",
       "3      within a few hours               100%                 100%   \n",
       "4          within an hour               100%                 100%   \n",
       "...                   ...                ...                  ...   \n",
       "26577      within an hour               100%                 100%   \n",
       "26578      within an hour               100%                 100%   \n",
       "26579      within an hour               100%                 100%   \n",
       "26580      within an hour               100%                 100%   \n",
       "26581      within an hour               100%                 100%   \n",
       "\n",
       "      host_is_superhost  ...  review_scores_communication  \\\n",
       "0                     f  ...                          NaN   \n",
       "1                     t  ...                         4.78   \n",
       "2                     t  ...                         4.92   \n",
       "3                     t  ...                         4.98   \n",
       "4                     t  ...                         4.73   \n",
       "...                 ...  ...                          ...   \n",
       "26577                 t  ...                          NaN   \n",
       "26578                 f  ...                          NaN   \n",
       "26579                 f  ...                          NaN   \n",
       "26580                 f  ...                          NaN   \n",
       "26581                 t  ...                          NaN   \n",
       "\n",
       "      review_scores_location review_scores_value license  instant_bookable  \\\n",
       "0                        NaN                 NaN     NaN                 f   \n",
       "1                       4.98                4.48     NaN                 f   \n",
       "2                       4.98                4.91     NaN                 f   \n",
       "3                       4.96                4.92     NaN                 f   \n",
       "4                       4.91                4.82     NaN                 f   \n",
       "...                      ...                 ...     ...               ...   \n",
       "26577                    NaN                 NaN     NaN                 t   \n",
       "26578                    NaN                 NaN     NaN                 t   \n",
       "26579                    NaN                 NaN     NaN                 t   \n",
       "26580                    NaN                 NaN     NaN                 t   \n",
       "26581                    NaN                 NaN     NaN                 t   \n",
       "\n",
       "       calculated_host_listings_count  \\\n",
       "0                                   1   \n",
       "1                                   8   \n",
       "2                                   2   \n",
       "3                                   3   \n",
       "4                                   3   \n",
       "...                               ...   \n",
       "26577                              37   \n",
       "26578                              16   \n",
       "26579                              16   \n",
       "26580                              16   \n",
       "26581                               4   \n",
       "\n",
       "      calculated_host_listings_count_entire_homes  \\\n",
       "0                                               1   \n",
       "1                                               4   \n",
       "2                                               2   \n",
       "3                                               2   \n",
       "4                                               3   \n",
       "...                                           ...   \n",
       "26577                                          14   \n",
       "26578                                           8   \n",
       "26579                                           8   \n",
       "26580                                           8   \n",
       "26581                                           4   \n",
       "\n",
       "      calculated_host_listings_count_private_rooms  \\\n",
       "0                                                0   \n",
       "1                                                1   \n",
       "2                                                0   \n",
       "3                                                1   \n",
       "4                                                0   \n",
       "...                                            ...   \n",
       "26577                                           23   \n",
       "26578                                            8   \n",
       "26579                                            8   \n",
       "26580                                            8   \n",
       "26581                                            0   \n",
       "\n",
       "       calculated_host_listings_count_shared_rooms  reviews_per_month  \n",
       "0                                                0                NaN  \n",
       "1                                                0               0.41  \n",
       "2                                                0               0.31  \n",
       "3                                                0               0.83  \n",
       "4                                                0               0.11  \n",
       "...                                            ...                ...  \n",
       "26577                                            0                NaN  \n",
       "26578                                            0                NaN  \n",
       "26579                                            0                NaN  \n",
       "26580                                            0                NaN  \n",
       "26581                                            0                NaN  \n",
       "\n",
       "[26582 rows x 50 columns]"
      ]
     },
     "execution_count": 29,
     "metadata": {},
     "output_type": "execute_result"
    }
   ],
   "source": [
    "data=pd.read_csv('listings_Mexico.csv', encoding='latin1')\n",
    "data"
   ]
  },
  {
   "cell_type": "markdown",
   "metadata": {},
   "source": [
    "**CHECAMOS LOS VALORES NULOS**"
   ]
  },
  {
   "cell_type": "code",
   "execution_count": 30,
   "metadata": {},
   "outputs": [
    {
     "data": {
      "text/plain": [
       "id                                                  0\n",
       "listing_url                                         0\n",
       "host_id                                             0\n",
       "host_name                                           0\n",
       "host_since                                          0\n",
       "host_location                                    5441\n",
       "host_response_time                               3622\n",
       "host_response_rate                               3622\n",
       "host_acceptance_rate                             2869\n",
       "host_is_superhost                                1509\n",
       "host_total_listings_count                           0\n",
       "host_verifications                                  0\n",
       "host_has_profile_pic                                0\n",
       "host_identity_verified                              0\n",
       "latitude                                            0\n",
       "longitude                                           0\n",
       "property_type                                       0\n",
       "room_type                                           0\n",
       "accommodates                                        0\n",
       "bathrooms                                        2915\n",
       "bathrooms_text                                     26\n",
       "bedrooms                                          866\n",
       "beds                                             2953\n",
       "amenities                                           0\n",
       "price                                            2927\n",
       "minimum_nights                                      0\n",
       "maximum_nights                                      0\n",
       "calendar_updated                                26582\n",
       "has_availability                                 1008\n",
       "availability_30                                     0\n",
       "availability_365                                    0\n",
       "number_of_reviews                                   0\n",
       "number_of_reviews_ltm                               0\n",
       "number_of_reviews_l30d                              0\n",
       "first_review                                     3656\n",
       "last_review                                      3656\n",
       "review_scores_rating                             3656\n",
       "review_scores_accuracy                           3657\n",
       "review_scores_cleanliness                        3657\n",
       "review_scores_checkin                            3657\n",
       "review_scores_communication                      3657\n",
       "review_scores_location                           3657\n",
       "review_scores_value                              3657\n",
       "license                                         26582\n",
       "instant_bookable                                    0\n",
       "calculated_host_listings_count                      0\n",
       "calculated_host_listings_count_entire_homes         0\n",
       "calculated_host_listings_count_private_rooms        0\n",
       "calculated_host_listings_count_shared_rooms         0\n",
       "reviews_per_month                                3656\n",
       "dtype: int64"
      ]
     },
     "execution_count": 30,
     "metadata": {},
     "output_type": "execute_result"
    }
   ],
   "source": [
    "valores_nulos=data.isnull().sum()\n",
    "valores_nulos"
   ]
  },
  {
   "cell_type": "markdown",
   "metadata": {},
   "source": [
    "**COMENZAMOS A TRATAR LOS NULOS DE LAS 23 COLUMNAS QUE LOS CONTIENEN**"
   ]
  },
  {
   "cell_type": "markdown",
   "metadata": {},
   "source": [
    "**1. HOST_LOCATION**"
   ]
  },
  {
   "cell_type": "code",
   "execution_count": 31,
   "metadata": {},
   "outputs": [],
   "source": [
    "# Método: Sustitución con un string específico\n",
    "data['host_location'] = data['host_location'].fillna(\"Desconocido\")  \n",
    "# Razón: Se utiliza un valor descriptivo para indicar que la ubicación del anfitrión es desconocida."
   ]
  },
  {
   "cell_type": "markdown",
   "metadata": {},
   "source": [
    "**2. HOST_RESPONSE_TIME**"
   ]
  },
  {
   "cell_type": "code",
   "execution_count": 32,
   "metadata": {},
   "outputs": [],
   "source": [
    "# Método: Sustitución con un string específico\n",
    "data['host_response_time'] = data['host_response_time'].fillna(\"Desconocido\")  \n",
    "# Razón: Se utiliza un valor que indica que el tiempo de respuesta es desconocido."
   ]
  },
  {
   "cell_type": "markdown",
   "metadata": {},
   "source": [
    "**3. HOST_RESPONSE_RATE**"
   ]
  },
  {
   "cell_type": "code",
   "execution_count": 33,
   "metadata": {},
   "outputs": [],
   "source": [
    "# Método: Sustitución con la media\n",
    "data['host_response_rate'] = data['host_response_rate'].str.replace('%', '').astype(float)\n",
    "data['host_response_rate'] = data['host_response_rate'].fillna(data['host_response_rate'].mean())\n",
    "data['host_response_rate'] = data['host_response_rate'].astype(str) + '%'  \n",
    "# Razón: La media es un buen estimador para datos continuos y ayuda a mantener la distribución de los datos."
   ]
  },
  {
   "cell_type": "markdown",
   "metadata": {},
   "source": [
    "**4. HOST_ACCEPTANCE_RATE**"
   ]
  },
  {
   "cell_type": "code",
   "execution_count": 34,
   "metadata": {},
   "outputs": [],
   "source": [
    "# Método: Sustitución con la mediana\n",
    "data['host_acceptance_rate'] = data['host_acceptance_rate'].str.replace('%', '').astype(float)\n",
    "data['host_acceptance_rate'] = data['host_acceptance_rate'].fillna(data['host_acceptance_rate'].mean())\n",
    "data['host_acceptance_rate'] = data['host_acceptance_rate'].astype(str) + '%' \n",
    "# Razón: La mediana es menos sensible a los valores atípicos y proporciona una mejor representación central en este caso."
   ]
  },
  {
   "cell_type": "markdown",
   "metadata": {},
   "source": [
    "**5. HOST_IS_SUPERHOST**"
   ]
  },
  {
   "cell_type": "code",
   "execution_count": 35,
   "metadata": {},
   "outputs": [],
   "source": [
    "# Método: Sustitución con un valor específico\n",
    "data['host_is_superhost'] = data['host_is_superhost'].fillna(\"f\")  \n",
    "# Razón: Se asume que si no hay información, el anfitrión no es un superanfitrión."
   ]
  },
  {
   "cell_type": "markdown",
   "metadata": {},
   "source": [
    "**6. BATHROOMS**"
   ]
  },
  {
   "cell_type": "code",
   "execution_count": 36,
   "metadata": {},
   "outputs": [],
   "source": [
    "# Método: Sustitución con un valor específico\n",
    "data['bathrooms'] = data['bathrooms'].fillna(data['bathrooms'].mean())\n",
    "# Razón: Se utiliza un valor que indica el número de baños del airbnb."
   ]
  },
  {
   "cell_type": "markdown",
   "metadata": {},
   "source": [
    "**7. BATHROOMS_TEXT**"
   ]
  },
  {
   "cell_type": "code",
   "execution_count": 37,
   "metadata": {},
   "outputs": [],
   "source": [
    "# Método: Sustitución con un valor específico\n",
    "data['bathrooms_text'] = data['bathrooms_text'].fillna(\"1 baño\")  \n",
    "# Razón: Se utiliza un valor que indica que no hay baños disponibles."
   ]
  },
  {
   "cell_type": "markdown",
   "metadata": {},
   "source": [
    "**8. BEDROOMS**"
   ]
  },
  {
   "cell_type": "code",
   "execution_count": 38,
   "metadata": {},
   "outputs": [],
   "source": [
    "# Método: Sustitución con la mediana\n",
    "data['bedrooms'] = data['bedrooms'].fillna(data['bedrooms'].median())  \n",
    "# Razón: La mediana es un mejor estimador en caso de que existan valores atípicos."
   ]
  },
  {
   "cell_type": "markdown",
   "metadata": {},
   "source": [
    "**9. BEDS**"
   ]
  },
  {
   "cell_type": "code",
   "execution_count": 39,
   "metadata": {},
   "outputs": [],
   "source": [
    "# Método: Sustitución con la mediana\n",
    "data['beds'] = data['beds'].fillna(data['beds'].median())  \n",
    "# Razón: La mediana es menos sensible a los valores atípicos y proporciona una mejor representación central."
   ]
  },
  {
   "cell_type": "markdown",
   "metadata": {},
   "source": [
    "**10. PRICE**"
   ]
  },
  {
   "cell_type": "code",
   "execution_count": 40,
   "metadata": {},
   "outputs": [],
   "source": [
    "# Método: Sustitución con la mediana\n",
    "data['price'] = data['price'].str.replace('$', '')\n",
    "data['price'] = data['price'].str.replace(',', '').astype(float)\n",
    "data['price'] = data['price'].fillna(data['price'].median())\n",
    "data['price'] = data['price'].astype(str) + '$'\n",
    "# Razón: La mediana es un mejor estimador en caso de que existan valores atípicos."
   ]
  },
  {
   "cell_type": "markdown",
   "metadata": {},
   "source": [
    "**11. CALENDAR_UPDATED**"
   ]
  },
  {
   "cell_type": "code",
   "execution_count": 41,
   "metadata": {},
   "outputs": [],
   "source": [
    "# Método: Sustitución con un string específico\n",
    "data['calendar_updated'] = data['calendar_updated'].fillna(\"No actualizado\")  \n",
    "# Razón: Se utiliza un valor que indica que el calendario no ha sido actualizado."
   ]
  },
  {
   "cell_type": "markdown",
   "metadata": {},
   "source": [
    "**12. HAS_AVAILABILITY**"
   ]
  },
  {
   "cell_type": "code",
   "execution_count": 42,
   "metadata": {},
   "outputs": [],
   "source": [
    "# Método: Sustitución con un valor específico\n",
    "data['has_availability'] = data['has_availability'].fillna(\"f\")  \n",
    "# Razón: Se asume que si no hay información, no hay disponibilidad."
   ]
  },
  {
   "cell_type": "markdown",
   "metadata": {},
   "source": [
    "**13. FIRST_REVIEW**"
   ]
  },
  {
   "cell_type": "code",
   "execution_count": 43,
   "metadata": {},
   "outputs": [],
   "source": [
    "# Método: Sustitución con un string específico\n",
    "data['first_review'] = data['first_review'].fillna(\"Sin fecha\")  \n",
    "# Razón: Se utiliza un valor que indica que no hay reseñas disponibles."
   ]
  },
  {
   "cell_type": "markdown",
   "metadata": {},
   "source": [
    "**14. LAST_REVIEW**"
   ]
  },
  {
   "cell_type": "code",
   "execution_count": 44,
   "metadata": {},
   "outputs": [],
   "source": [
    "# Método: Sustitución con un string específico\n",
    "data['last_review'] = data['last_review'].fillna(\"Sin fecha\")  \n",
    "# Razón: Se utiliza un valor que indica que no hay reseñas disponibles."
   ]
  },
  {
   "cell_type": "markdown",
   "metadata": {},
   "source": [
    "**15. REVIEW_SCORES_RATING**"
   ]
  },
  {
   "cell_type": "code",
   "execution_count": 45,
   "metadata": {},
   "outputs": [],
   "source": [
    "# Método: Sustitución con la media\n",
    "data['review_scores_rating'] = data['review_scores_rating'].fillna(data['review_scores_rating'].mean())  \n",
    "# Razón: La media es un buen estimador para datos continuos y ayuda a mantener la distribución de los datos."
   ]
  },
  {
   "cell_type": "markdown",
   "metadata": {},
   "source": [
    "**16. REVIEW_SCORES_ACCURACY**"
   ]
  },
  {
   "cell_type": "code",
   "execution_count": 46,
   "metadata": {},
   "outputs": [],
   "source": [
    "# Método: Sustitución con la media\n",
    "data['review_scores_accuracy'] = data['review_scores_accuracy'].fillna(data['review_scores_accuracy'].mean())  \n",
    "# Razón: La media es un buen estimador para datos continuos y ayuda a mantener la distribución de los datos."
   ]
  },
  {
   "cell_type": "markdown",
   "metadata": {},
   "source": [
    "**17. REVIEW_SCORES_CLEANLINESS**"
   ]
  },
  {
   "cell_type": "code",
   "execution_count": 47,
   "metadata": {},
   "outputs": [],
   "source": [
    "# Método: Sustitución con la media\n",
    "data['review_scores_cleanliness'] = data['review_scores_cleanliness'].fillna(data['review_scores_cleanliness'].mean())  \n",
    "# Razón: La media es un buen estimador para datos continuos y ayuda a mantener la distribución de los datos."
   ]
  },
  {
   "cell_type": "markdown",
   "metadata": {},
   "source": [
    "**18. REVIEW_SCORES_CHECKIN**"
   ]
  },
  {
   "cell_type": "code",
   "execution_count": 48,
   "metadata": {},
   "outputs": [],
   "source": [
    "# Método: Sustitución con la media\n",
    "data['review_scores_checkin'] = data['review_scores_checkin'].fillna(data['review_scores_checkin'].mean())  \n",
    "# Razón: La media es un buen estimador para datos continuos y ayuda a mantener la distribución de los datos."
   ]
  },
  {
   "cell_type": "markdown",
   "metadata": {},
   "source": [
    "**19. REVIEW_SCORES_COMMUNICATION**"
   ]
  },
  {
   "cell_type": "code",
   "execution_count": 49,
   "metadata": {},
   "outputs": [],
   "source": [
    "# Método: Sustitución con la media\n",
    "data['review_scores_communication'] = data['review_scores_communication'].fillna(data['review_scores_communication'].mean())  \n",
    "# Razón: La media es un buen estimador para datos continuos y ayuda a mantener la distribución de los datos."
   ]
  },
  {
   "cell_type": "markdown",
   "metadata": {},
   "source": [
    "**20. REVIEW_SCORES_LOCATION**"
   ]
  },
  {
   "cell_type": "code",
   "execution_count": 50,
   "metadata": {},
   "outputs": [],
   "source": [
    "# Método: Sustitución con la media\n",
    "data['review_scores_location'] = data['review_scores_location'].fillna(data['review_scores_location'].mean())  \n",
    "# Razón: La media es un buen estimador para datos continuos y ayuda a mantener la distribución de los datos."
   ]
  },
  {
   "cell_type": "markdown",
   "metadata": {},
   "source": [
    "**21. REVIEW_SCORES_VALUE**"
   ]
  },
  {
   "cell_type": "code",
   "execution_count": 51,
   "metadata": {},
   "outputs": [],
   "source": [
    "# Método: Sustitución con la media\n",
    "data['review_scores_value'] = data['review_scores_value'].fillna(data['review_scores_value'].mean())  \n",
    "# Razón: La media es un buen estimador para datos continuos y ayuda a mantener la distribución de los datos."
   ]
  },
  {
   "cell_type": "markdown",
   "metadata": {},
   "source": [
    "**22. LICENSE**"
   ]
  },
  {
   "cell_type": "code",
   "execution_count": 52,
   "metadata": {},
   "outputs": [],
   "source": [
    "# Método: Sustitución con un string específico\n",
    "data['license'] = data['license'].fillna(\"Sin licencia\")  \n",
    "# Razón: Se utiliza un valor que indica que no hay información sobre la licencia."
   ]
  },
  {
   "cell_type": "markdown",
   "metadata": {},
   "source": [
    "**23. REVIEWS_PER_MONTH**"
   ]
  },
  {
   "cell_type": "code",
   "execution_count": 53,
   "metadata": {},
   "outputs": [],
   "source": [
    "# Método: Sustitución con la media\n",
    "data['reviews_per_month'] = data['reviews_per_month'].fillna(data['reviews_per_month'].mean())  \n",
    "# Razón: La media es un buen estimador para datos continuos y ayuda a mantener la distribución de los datos."
   ]
  },
  {
   "cell_type": "markdown",
   "metadata": {},
   "source": [
    "**CREAMOS EL ARCHIVO CSV LIMPIO**"
   ]
  },
  {
   "cell_type": "code",
   "execution_count": 54,
   "metadata": {},
   "outputs": [],
   "source": [
    "data.to_csv('listings_Mexico_limpio.csv')"
   ]
  }
 ],
 "metadata": {
  "kernelspec": {
   "display_name": "Python 3",
   "language": "python",
   "name": "python3"
  },
  "language_info": {
   "codemirror_mode": {
    "name": "ipython",
    "version": 3
   },
   "file_extension": ".py",
   "mimetype": "text/x-python",
   "name": "python",
   "nbconvert_exporter": "python",
   "pygments_lexer": "ipython3",
   "version": "3.13.1"
  }
 },
 "nbformat": 4,
 "nbformat_minor": 2
}
