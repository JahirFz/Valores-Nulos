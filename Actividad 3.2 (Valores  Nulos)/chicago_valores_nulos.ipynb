{
 "cells": [
  {
   "cell_type": "code",
   "execution_count": 58,
   "metadata": {},
   "outputs": [],
   "source": [
    "import pandas as pd\n",
    "import numpy as np\n",
    "import matplotlib.pyplot as plt"
   ]
  },
  {
   "cell_type": "code",
   "execution_count": 59,
   "metadata": {},
   "outputs": [
    {
     "data": {
      "text/html": [
       "<div>\n",
       "<style scoped>\n",
       "    .dataframe tbody tr th:only-of-type {\n",
       "        vertical-align: middle;\n",
       "    }\n",
       "\n",
       "    .dataframe tbody tr th {\n",
       "        vertical-align: top;\n",
       "    }\n",
       "\n",
       "    .dataframe thead th {\n",
       "        text-align: right;\n",
       "    }\n",
       "</style>\n",
       "<table border=\"1\" class=\"dataframe\">\n",
       "  <thead>\n",
       "    <tr style=\"text-align: right;\">\n",
       "      <th></th>\n",
       "      <th>id</th>\n",
       "      <th>listing_url</th>\n",
       "      <th>scrape_id</th>\n",
       "      <th>last_scraped</th>\n",
       "      <th>source</th>\n",
       "      <th>name</th>\n",
       "      <th>description</th>\n",
       "      <th>neighborhood_overview</th>\n",
       "      <th>picture_url</th>\n",
       "      <th>host_id</th>\n",
       "      <th>...</th>\n",
       "      <th>review_scores_communication</th>\n",
       "      <th>review_scores_location</th>\n",
       "      <th>review_scores_value</th>\n",
       "      <th>license</th>\n",
       "      <th>instant_bookable</th>\n",
       "      <th>calculated_host_listings_count</th>\n",
       "      <th>calculated_host_listings_count_entire_homes</th>\n",
       "      <th>calculated_host_listings_count_private_rooms</th>\n",
       "      <th>calculated_host_listings_count_shared_rooms</th>\n",
       "      <th>reviews_per_month</th>\n",
       "    </tr>\n",
       "  </thead>\n",
       "  <tbody>\n",
       "    <tr>\n",
       "      <th>0</th>\n",
       "      <td>2384</td>\n",
       "      <td>https://www.airbnb.com/rooms/2384</td>\n",
       "      <td>20240917031253</td>\n",
       "      <td>2024-09-17</td>\n",
       "      <td>city scrape</td>\n",
       "      <td>Hyde Park - Walk to The University of Chicago</td>\n",
       "      <td>Solo Hyde Park visitors are invited stay in th...</td>\n",
       "      <td>The apartment is less than one block from beau...</td>\n",
       "      <td>https://a0.muscache.com/pictures/hosting/Hosti...</td>\n",
       "      <td>2613</td>\n",
       "      <td>...</td>\n",
       "      <td>4.98</td>\n",
       "      <td>4.95</td>\n",
       "      <td>4.94</td>\n",
       "      <td>R17000015609</td>\n",
       "      <td>f</td>\n",
       "      <td>1</td>\n",
       "      <td>0</td>\n",
       "      <td>1</td>\n",
       "      <td>0</td>\n",
       "      <td>2.08</td>\n",
       "    </tr>\n",
       "    <tr>\n",
       "      <th>1</th>\n",
       "      <td>7126</td>\n",
       "      <td>https://www.airbnb.com/rooms/7126</td>\n",
       "      <td>20240917031253</td>\n",
       "      <td>2024-09-17</td>\n",
       "      <td>city scrape</td>\n",
       "      <td>Tiny Studio Apartment 94 Walk Score</td>\n",
       "      <td>A very small studio in a wonderful neighborhood.</td>\n",
       "      <td>Ukrainian Village was just named \"Hottest Neig...</td>\n",
       "      <td>https://a0.muscache.com/pictures/51073/16c81c7...</td>\n",
       "      <td>17928</td>\n",
       "      <td>...</td>\n",
       "      <td>4.87</td>\n",
       "      <td>4.90</td>\n",
       "      <td>4.75</td>\n",
       "      <td>R24000114046</td>\n",
       "      <td>f</td>\n",
       "      <td>1</td>\n",
       "      <td>1</td>\n",
       "      <td>0</td>\n",
       "      <td>0</td>\n",
       "      <td>2.94</td>\n",
       "    </tr>\n",
       "    <tr>\n",
       "      <th>2</th>\n",
       "      <td>10945</td>\n",
       "      <td>https://www.airbnb.com/rooms/10945</td>\n",
       "      <td>20240917031253</td>\n",
       "      <td>2024-09-17</td>\n",
       "      <td>city scrape</td>\n",
       "      <td>The Biddle House (#1)</td>\n",
       "      <td>Beautiful first floor apartment in Historic Ol...</td>\n",
       "      <td>NaN</td>\n",
       "      <td>https://a0.muscache.com/pictures/58d1a420-a24b...</td>\n",
       "      <td>33004</td>\n",
       "      <td>...</td>\n",
       "      <td>4.87</td>\n",
       "      <td>4.98</td>\n",
       "      <td>4.72</td>\n",
       "      <td>2209984</td>\n",
       "      <td>t</td>\n",
       "      <td>5</td>\n",
       "      <td>5</td>\n",
       "      <td>0</td>\n",
       "      <td>0</td>\n",
       "      <td>0.82</td>\n",
       "    </tr>\n",
       "    <tr>\n",
       "      <th>3</th>\n",
       "      <td>12140</td>\n",
       "      <td>https://www.airbnb.com/rooms/12140</td>\n",
       "      <td>20240917031253</td>\n",
       "      <td>2024-09-17</td>\n",
       "      <td>city scrape</td>\n",
       "      <td>Lincoln Park Guest House</td>\n",
       "      <td>Bed and Breakfast license issued by the City o...</td>\n",
       "      <td>The Guest House is in the heart of Chicago's m...</td>\n",
       "      <td>https://a0.muscache.com/pictures/miso/Hosting-...</td>\n",
       "      <td>46734</td>\n",
       "      <td>...</td>\n",
       "      <td>5.00</td>\n",
       "      <td>5.00</td>\n",
       "      <td>4.81</td>\n",
       "      <td>R20000055258</td>\n",
       "      <td>f</td>\n",
       "      <td>1</td>\n",
       "      <td>0</td>\n",
       "      <td>1</td>\n",
       "      <td>0</td>\n",
       "      <td>0.14</td>\n",
       "    </tr>\n",
       "    <tr>\n",
       "      <th>4</th>\n",
       "      <td>28749</td>\n",
       "      <td>https://www.airbnb.com/rooms/28749</td>\n",
       "      <td>20240917031253</td>\n",
       "      <td>2024-09-17</td>\n",
       "      <td>city scrape</td>\n",
       "      <td>Quirky Bucktown Loft w/ Parking No Parties</td>\n",
       "      <td>Located on a peaceful treelined street in ener...</td>\n",
       "      <td>Bucktown is a thriving community on the Northw...</td>\n",
       "      <td>https://a0.muscache.com/pictures/95884ff6-a672...</td>\n",
       "      <td>27506</td>\n",
       "      <td>...</td>\n",
       "      <td>4.86</td>\n",
       "      <td>4.92</td>\n",
       "      <td>4.71</td>\n",
       "      <td>R24000113825</td>\n",
       "      <td>f</td>\n",
       "      <td>1</td>\n",
       "      <td>1</td>\n",
       "      <td>0</td>\n",
       "      <td>0</td>\n",
       "      <td>1.34</td>\n",
       "    </tr>\n",
       "    <tr>\n",
       "      <th>...</th>\n",
       "      <td>...</td>\n",
       "      <td>...</td>\n",
       "      <td>...</td>\n",
       "      <td>...</td>\n",
       "      <td>...</td>\n",
       "      <td>...</td>\n",
       "      <td>...</td>\n",
       "      <td>...</td>\n",
       "      <td>...</td>\n",
       "      <td>...</td>\n",
       "      <td>...</td>\n",
       "      <td>...</td>\n",
       "      <td>...</td>\n",
       "      <td>...</td>\n",
       "      <td>...</td>\n",
       "      <td>...</td>\n",
       "      <td>...</td>\n",
       "      <td>...</td>\n",
       "      <td>...</td>\n",
       "      <td>...</td>\n",
       "      <td>...</td>\n",
       "    </tr>\n",
       "    <tr>\n",
       "      <th>8264</th>\n",
       "      <td>1246505616545117832</td>\n",
       "      <td>https://www.airbnb.com/rooms/1246505616545117832</td>\n",
       "      <td>20240917031253</td>\n",
       "      <td>2024-09-17</td>\n",
       "      <td>city scrape</td>\n",
       "      <td>Designt w Love in W. Englewood</td>\n",
       "      <td>This lovely apartment in West Englewood is boo...</td>\n",
       "      <td>NaN</td>\n",
       "      <td>https://a0.muscache.com/pictures/hosting/Hosti...</td>\n",
       "      <td>101370587</td>\n",
       "      <td>...</td>\n",
       "      <td>NaN</td>\n",
       "      <td>NaN</td>\n",
       "      <td>NaN</td>\n",
       "      <td>NaN</td>\n",
       "      <td>t</td>\n",
       "      <td>1</td>\n",
       "      <td>1</td>\n",
       "      <td>0</td>\n",
       "      <td>0</td>\n",
       "      <td>NaN</td>\n",
       "    </tr>\n",
       "    <tr>\n",
       "      <th>8265</th>\n",
       "      <td>1246520637932735784</td>\n",
       "      <td>https://www.airbnb.com/rooms/1246520637932735784</td>\n",
       "      <td>20240917031253</td>\n",
       "      <td>2024-09-17</td>\n",
       "      <td>city scrape</td>\n",
       "      <td>Modern 2B2B with 3 Parkings</td>\n",
       "      <td>3 Free tandem parking spots included! Welcome ...</td>\n",
       "      <td>NaN</td>\n",
       "      <td>https://a0.muscache.com/pictures/hosting/Hosti...</td>\n",
       "      <td>62022982</td>\n",
       "      <td>...</td>\n",
       "      <td>NaN</td>\n",
       "      <td>NaN</td>\n",
       "      <td>NaN</td>\n",
       "      <td>R24000120606</td>\n",
       "      <td>t</td>\n",
       "      <td>17</td>\n",
       "      <td>17</td>\n",
       "      <td>0</td>\n",
       "      <td>0</td>\n",
       "      <td>NaN</td>\n",
       "    </tr>\n",
       "    <tr>\n",
       "      <th>8266</th>\n",
       "      <td>1246620570694363906</td>\n",
       "      <td>https://www.airbnb.com/rooms/1246620570694363906</td>\n",
       "      <td>20240917031253</td>\n",
       "      <td>2024-09-17</td>\n",
       "      <td>city scrape</td>\n",
       "      <td>Brand New 2br/2ba in Ravenswood</td>\n",
       "      <td>Welcome to your stylish home away from home! T...</td>\n",
       "      <td>NaN</td>\n",
       "      <td>https://a0.muscache.com/pictures/miso/Hosting-...</td>\n",
       "      <td>135843543</td>\n",
       "      <td>...</td>\n",
       "      <td>NaN</td>\n",
       "      <td>NaN</td>\n",
       "      <td>NaN</td>\n",
       "      <td>NaN</td>\n",
       "      <td>f</td>\n",
       "      <td>2</td>\n",
       "      <td>2</td>\n",
       "      <td>0</td>\n",
       "      <td>0</td>\n",
       "      <td>NaN</td>\n",
       "    </tr>\n",
       "    <tr>\n",
       "      <th>8267</th>\n",
       "      <td>1246639379562163059</td>\n",
       "      <td>https://www.airbnb.com/rooms/1246639379562163059</td>\n",
       "      <td>20240917031253</td>\n",
       "      <td>2024-09-17</td>\n",
       "      <td>city scrape</td>\n",
       "      <td>Gem 2 Miles to Wrigley + Totally Private w/Par...</td>\n",
       "      <td>Completely private condo unit, that is not sha...</td>\n",
       "      <td>NaN</td>\n",
       "      <td>https://a0.muscache.com/pictures/miso/Hosting-...</td>\n",
       "      <td>51767459</td>\n",
       "      <td>...</td>\n",
       "      <td>NaN</td>\n",
       "      <td>NaN</td>\n",
       "      <td>NaN</td>\n",
       "      <td>R23000108019</td>\n",
       "      <td>f</td>\n",
       "      <td>6</td>\n",
       "      <td>3</td>\n",
       "      <td>3</td>\n",
       "      <td>0</td>\n",
       "      <td>NaN</td>\n",
       "    </tr>\n",
       "    <tr>\n",
       "      <th>8268</th>\n",
       "      <td>1247067926762205766</td>\n",
       "      <td>https://www.airbnb.com/rooms/1247067926762205766</td>\n",
       "      <td>20240917031253</td>\n",
       "      <td>2024-09-17</td>\n",
       "      <td>city scrape</td>\n",
       "      <td>Chicago Apt 3 Mi to Lake Michigan!</td>\n",
       "      <td>10 Mi to Downtown Chicago | Private Deck | 1,8...</td>\n",
       "      <td>- Convenient location near bus/train stations ...</td>\n",
       "      <td>https://a0.muscache.com/pictures/prohost-api/H...</td>\n",
       "      <td>456513928</td>\n",
       "      <td>...</td>\n",
       "      <td>NaN</td>\n",
       "      <td>NaN</td>\n",
       "      <td>NaN</td>\n",
       "      <td>NaN</td>\n",
       "      <td>t</td>\n",
       "      <td>10</td>\n",
       "      <td>10</td>\n",
       "      <td>0</td>\n",
       "      <td>0</td>\n",
       "      <td>NaN</td>\n",
       "    </tr>\n",
       "  </tbody>\n",
       "</table>\n",
       "<p>8269 rows × 75 columns</p>\n",
       "</div>"
      ],
      "text/plain": [
       "                       id                                       listing_url  \\\n",
       "0                    2384                 https://www.airbnb.com/rooms/2384   \n",
       "1                    7126                 https://www.airbnb.com/rooms/7126   \n",
       "2                   10945                https://www.airbnb.com/rooms/10945   \n",
       "3                   12140                https://www.airbnb.com/rooms/12140   \n",
       "4                   28749                https://www.airbnb.com/rooms/28749   \n",
       "...                   ...                                               ...   \n",
       "8264  1246505616545117832  https://www.airbnb.com/rooms/1246505616545117832   \n",
       "8265  1246520637932735784  https://www.airbnb.com/rooms/1246520637932735784   \n",
       "8266  1246620570694363906  https://www.airbnb.com/rooms/1246620570694363906   \n",
       "8267  1246639379562163059  https://www.airbnb.com/rooms/1246639379562163059   \n",
       "8268  1247067926762205766  https://www.airbnb.com/rooms/1247067926762205766   \n",
       "\n",
       "           scrape_id last_scraped       source  \\\n",
       "0     20240917031253   2024-09-17  city scrape   \n",
       "1     20240917031253   2024-09-17  city scrape   \n",
       "2     20240917031253   2024-09-17  city scrape   \n",
       "3     20240917031253   2024-09-17  city scrape   \n",
       "4     20240917031253   2024-09-17  city scrape   \n",
       "...              ...          ...          ...   \n",
       "8264  20240917031253   2024-09-17  city scrape   \n",
       "8265  20240917031253   2024-09-17  city scrape   \n",
       "8266  20240917031253   2024-09-17  city scrape   \n",
       "8267  20240917031253   2024-09-17  city scrape   \n",
       "8268  20240917031253   2024-09-17  city scrape   \n",
       "\n",
       "                                                   name  \\\n",
       "0         Hyde Park - Walk to The University of Chicago   \n",
       "1                   Tiny Studio Apartment 94 Walk Score   \n",
       "2                                 The Biddle House (#1)   \n",
       "3                              Lincoln Park Guest House   \n",
       "4            Quirky Bucktown Loft w/ Parking No Parties   \n",
       "...                                                 ...   \n",
       "8264                     Designt w Love in W. Englewood   \n",
       "8265                        Modern 2B2B with 3 Parkings   \n",
       "8266                    Brand New 2br/2ba in Ravenswood   \n",
       "8267  Gem 2 Miles to Wrigley + Totally Private w/Par...   \n",
       "8268                 Chicago Apt 3 Mi to Lake Michigan!   \n",
       "\n",
       "                                            description  \\\n",
       "0     Solo Hyde Park visitors are invited stay in th...   \n",
       "1      A very small studio in a wonderful neighborhood.   \n",
       "2     Beautiful first floor apartment in Historic Ol...   \n",
       "3     Bed and Breakfast license issued by the City o...   \n",
       "4     Located on a peaceful treelined street in ener...   \n",
       "...                                                 ...   \n",
       "8264  This lovely apartment in West Englewood is boo...   \n",
       "8265  3 Free tandem parking spots included! Welcome ...   \n",
       "8266  Welcome to your stylish home away from home! T...   \n",
       "8267  Completely private condo unit, that is not sha...   \n",
       "8268  10 Mi to Downtown Chicago | Private Deck | 1,8...   \n",
       "\n",
       "                                  neighborhood_overview  \\\n",
       "0     The apartment is less than one block from beau...   \n",
       "1     Ukrainian Village was just named \"Hottest Neig...   \n",
       "2                                                   NaN   \n",
       "3     The Guest House is in the heart of Chicago's m...   \n",
       "4     Bucktown is a thriving community on the Northw...   \n",
       "...                                                 ...   \n",
       "8264                                                NaN   \n",
       "8265                                                NaN   \n",
       "8266                                                NaN   \n",
       "8267                                                NaN   \n",
       "8268  - Convenient location near bus/train stations ...   \n",
       "\n",
       "                                            picture_url    host_id  ...  \\\n",
       "0     https://a0.muscache.com/pictures/hosting/Hosti...       2613  ...   \n",
       "1     https://a0.muscache.com/pictures/51073/16c81c7...      17928  ...   \n",
       "2     https://a0.muscache.com/pictures/58d1a420-a24b...      33004  ...   \n",
       "3     https://a0.muscache.com/pictures/miso/Hosting-...      46734  ...   \n",
       "4     https://a0.muscache.com/pictures/95884ff6-a672...      27506  ...   \n",
       "...                                                 ...        ...  ...   \n",
       "8264  https://a0.muscache.com/pictures/hosting/Hosti...  101370587  ...   \n",
       "8265  https://a0.muscache.com/pictures/hosting/Hosti...   62022982  ...   \n",
       "8266  https://a0.muscache.com/pictures/miso/Hosting-...  135843543  ...   \n",
       "8267  https://a0.muscache.com/pictures/miso/Hosting-...   51767459  ...   \n",
       "8268  https://a0.muscache.com/pictures/prohost-api/H...  456513928  ...   \n",
       "\n",
       "     review_scores_communication review_scores_location review_scores_value  \\\n",
       "0                           4.98                   4.95                4.94   \n",
       "1                           4.87                   4.90                4.75   \n",
       "2                           4.87                   4.98                4.72   \n",
       "3                           5.00                   5.00                4.81   \n",
       "4                           4.86                   4.92                4.71   \n",
       "...                          ...                    ...                 ...   \n",
       "8264                         NaN                    NaN                 NaN   \n",
       "8265                         NaN                    NaN                 NaN   \n",
       "8266                         NaN                    NaN                 NaN   \n",
       "8267                         NaN                    NaN                 NaN   \n",
       "8268                         NaN                    NaN                 NaN   \n",
       "\n",
       "           license instant_bookable calculated_host_listings_count  \\\n",
       "0     R17000015609                f                              1   \n",
       "1     R24000114046                f                              1   \n",
       "2          2209984                t                              5   \n",
       "3     R20000055258                f                              1   \n",
       "4     R24000113825                f                              1   \n",
       "...            ...              ...                            ...   \n",
       "8264           NaN                t                              1   \n",
       "8265  R24000120606                t                             17   \n",
       "8266           NaN                f                              2   \n",
       "8267  R23000108019                f                              6   \n",
       "8268           NaN                t                             10   \n",
       "\n",
       "     calculated_host_listings_count_entire_homes  \\\n",
       "0                                              0   \n",
       "1                                              1   \n",
       "2                                              5   \n",
       "3                                              0   \n",
       "4                                              1   \n",
       "...                                          ...   \n",
       "8264                                           1   \n",
       "8265                                          17   \n",
       "8266                                           2   \n",
       "8267                                           3   \n",
       "8268                                          10   \n",
       "\n",
       "     calculated_host_listings_count_private_rooms  \\\n",
       "0                                               1   \n",
       "1                                               0   \n",
       "2                                               0   \n",
       "3                                               1   \n",
       "4                                               0   \n",
       "...                                           ...   \n",
       "8264                                            0   \n",
       "8265                                            0   \n",
       "8266                                            0   \n",
       "8267                                            3   \n",
       "8268                                            0   \n",
       "\n",
       "     calculated_host_listings_count_shared_rooms reviews_per_month  \n",
       "0                                              0              2.08  \n",
       "1                                              0              2.94  \n",
       "2                                              0              0.82  \n",
       "3                                              0              0.14  \n",
       "4                                              0              1.34  \n",
       "...                                          ...               ...  \n",
       "8264                                           0               NaN  \n",
       "8265                                           0               NaN  \n",
       "8266                                           0               NaN  \n",
       "8267                                           0               NaN  \n",
       "8268                                           0               NaN  \n",
       "\n",
       "[8269 rows x 75 columns]"
      ]
     },
     "execution_count": 59,
     "metadata": {},
     "output_type": "execute_result"
    }
   ],
   "source": [
    "data = pd.read_csv(\"chicago.csv\")\n",
    "data"
   ]
  },
  {
   "cell_type": "markdown",
   "metadata": {},
   "source": [
    "1. host_location"
   ]
  },
  {
   "cell_type": "code",
   "execution_count": 60,
   "metadata": {},
   "outputs": [],
   "source": [
    "# Método de sustitución con un valor fijo\n",
    "data[\"host_location\"] = data[\"host_location\"].fillna(\"Desconocido\") \n",
    "#Se usa este método para poner que la ubicación es desconocida"
   ]
  },
  {
   "cell_type": "markdown",
   "metadata": {},
   "source": [
    "2. host_response_time\n"
   ]
  },
  {
   "cell_type": "code",
   "execution_count": 61,
   "metadata": {},
   "outputs": [],
   "source": [
    "# Método de sustitución con un valor fijo\n",
    "data[\"host_response_time\"] = data[\"host_response_time\"].fillna(\"No definido\") \n",
    "#Se usa este método para poner que no esta definido un tiempo de respuesta"
   ]
  },
  {
   "cell_type": "markdown",
   "metadata": {},
   "source": [
    "3. host_response_rate"
   ]
  },
  {
   "cell_type": "code",
   "execution_count": 62,
   "metadata": {},
   "outputs": [],
   "source": [
    "#Método de sustitución con la media\n",
    "data['host_response_rate'] = data['host_response_rate'].str.replace('%', '').astype(float)\n",
    "data['host_response_rate'] = data['host_response_rate'].fillna(data['host_response_rate'].mean())\n",
    "data['host_response_rate'] = data['host_response_rate'].astype(str) + '%'\n",
    "#Se usa este método para ayudar a mantener la distribución de los datos  "
   ]
  },
  {
   "cell_type": "markdown",
   "metadata": {},
   "source": [
    "4. host_acceptance_rate"
   ]
  },
  {
   "cell_type": "code",
   "execution_count": 63,
   "metadata": {},
   "outputs": [],
   "source": [
    "# Método de sustitución con la mediana\n",
    "data['host_acceptance_rate'] = data['host_acceptance_rate'].str.replace('%', '').astype(float)\n",
    "data['host_acceptance_rate'] = data['host_acceptance_rate'].fillna(data['host_acceptance_rate'].mean())\n",
    "data['host_acceptance_rate'] = data['host_acceptance_rate'].astype(str) + '%' \n",
    "#Se usa este método porque  proporciona una mejor representación central en este caso."
   ]
  },
  {
   "cell_type": "markdown",
   "metadata": {},
   "source": [
    "5. host_is_superhost"
   ]
  },
  {
   "cell_type": "code",
   "execution_count": 64,
   "metadata": {},
   "outputs": [],
   "source": [
    "# Método de sustitución con un valor fijo\n",
    "data[\"host_is_superhost\"] = data[\"host_is_superhost\"].fillna(\"f\")\n",
    "#Se usa este método para poner que el host no es superhost\n"
   ]
  },
  {
   "cell_type": "markdown",
   "metadata": {},
   "source": [
    "6. bathrooms"
   ]
  },
  {
   "cell_type": "code",
   "execution_count": 65,
   "metadata": {},
   "outputs": [],
   "source": [
    "# Método de sustitución con la media\n",
    "data[\"bathrooms\"] = data[\"bathrooms\"].fillna(data[\"bathrooms\"].mean())\n",
    "#Se usa este metodo para poner la media de los baños"
   ]
  },
  {
   "cell_type": "markdown",
   "metadata": {},
   "source": [
    "7. bathrooms_text"
   ]
  },
  {
   "cell_type": "code",
   "execution_count": 66,
   "metadata": {},
   "outputs": [],
   "source": [
    "# Método de sustitución con un valor fijo\n",
    "data[\"bathrooms_text\"] = data[\"bathrooms_text\"].fillna(\"1 baño\") \n",
    "#Se usa este método para poner que posible hay 1 baño"
   ]
  },
  {
   "cell_type": "markdown",
   "metadata": {},
   "source": [
    "8. bedrooms"
   ]
  },
  {
   "cell_type": "code",
   "execution_count": 67,
   "metadata": {},
   "outputs": [],
   "source": [
    "# Método de sustitución con la mediana\n",
    "data[\"bedrooms\"] = data[\"bedrooms\"].fillna(data[\"bedrooms\"].median()) \n",
    "#Se usa este método para saber la mediana del dato de los habitaciones"
   ]
  },
  {
   "cell_type": "markdown",
   "metadata": {},
   "source": [
    "9. beds"
   ]
  },
  {
   "cell_type": "code",
   "execution_count": 68,
   "metadata": {},
   "outputs": [],
   "source": [
    "# Método de sustitución con la mediana\n",
    "data[\"beds\"] = data[\"beds\"].fillna(data[\"beds\"].median())\n",
    "#Se usa este método para conocer la media de camas que hay"
   ]
  },
  {
   "cell_type": "markdown",
   "metadata": {},
   "source": [
    "10. price"
   ]
  },
  {
   "cell_type": "code",
   "execution_count": 69,
   "metadata": {},
   "outputs": [],
   "source": [
    "# Método de sustitución con la mediana\n",
    "data['price'] = data['price'].str.replace('$', '')\n",
    "data['price'] = data['price'].str.replace(',', '').astype(float)\n",
    "data['price'] = data['price'].fillna(data['price'].median())\n",
    "data['price'] = data['price'].astype(str) + '$'\n",
    "#Se usa este metodo para obtener el promedio y saber más o menos el precio"
   ]
  },
  {
   "cell_type": "markdown",
   "metadata": {},
   "source": [
    "11. calendar_updated"
   ]
  },
  {
   "cell_type": "code",
   "execution_count": 70,
   "metadata": {},
   "outputs": [],
   "source": [
    "# Método de sustitución con un valor fijo\n",
    "data[\"calendar_updated\"] = data[\"calendar_updated\"].fillna(\"No actualizado\")\n",
    "#Se usa este método para indicar que el calendario no ha sido actualizado"
   ]
  },
  {
   "cell_type": "markdown",
   "metadata": {},
   "source": [
    "12. has_availability"
   ]
  },
  {
   "cell_type": "code",
   "execution_count": 71,
   "metadata": {},
   "outputs": [],
   "source": [
    "# Método de sustitución con un valor fijo\n",
    "data[\"has_availability\"] = data[\"has_availability\"].fillna(\"f\")\n",
    "#Se usa este método pata mostrar que no hay disponibilidad, ya que no hay información"
   ]
  },
  {
   "cell_type": "markdown",
   "metadata": {},
   "source": [
    "13. first_review"
   ]
  },
  {
   "cell_type": "code",
   "execution_count": 72,
   "metadata": {},
   "outputs": [],
   "source": [
    "# Método de sustitución con un valor fijo\n",
    "data[\"first_review\"] = data[\"first_review\"].fillna(\"Sin fecha\")\n",
    "#Se usa este método para declarar que no hay fecha de primera reseña"
   ]
  },
  {
   "cell_type": "markdown",
   "metadata": {},
   "source": [
    "14. last_review"
   ]
  },
  {
   "cell_type": "code",
   "execution_count": 73,
   "metadata": {},
   "outputs": [],
   "source": [
    "# Método de sustitución con un valor fijo\n",
    "data[\"last_review\"] = data[\"last_review\"].fillna(\"Sin fecha\")\n",
    "#Se usa este método para declarar que no hay fecha de ultima reseña"
   ]
  },
  {
   "cell_type": "markdown",
   "metadata": {},
   "source": [
    "15. review_scores_rating"
   ]
  },
  {
   "cell_type": "code",
   "execution_count": 74,
   "metadata": {},
   "outputs": [],
   "source": [
    "# Método de sustitución con la media\n",
    "data[\"review_scores_rating\"] = data[\"review_scores_rating\"].fillna(data[\"review_scores_rating\"].mean()) \n",
    "#Se usa este método para conocer el promedio y ayudar a mantener los datos"
   ]
  },
  {
   "cell_type": "markdown",
   "metadata": {},
   "source": [
    "16. review_scores_accuracy"
   ]
  },
  {
   "cell_type": "code",
   "execution_count": 75,
   "metadata": {},
   "outputs": [],
   "source": [
    "# Método de sustitución con la media\n",
    "data[\"review_scores_accuracy\"] = data[\"review_scores_accuracy\"].fillna(data[\"review_scores_accuracy\"].mean())\n",
    "#Se usa este método para saber el promedio y mantener la precisión"
   ]
  },
  {
   "cell_type": "markdown",
   "metadata": {},
   "source": [
    "17. review_scores_cleanliness"
   ]
  },
  {
   "cell_type": "code",
   "execution_count": 76,
   "metadata": {},
   "outputs": [],
   "source": [
    "# Método de sustitución con la media\n",
    "data[\"review_scores_cleanliness\"] = data[\"review_scores_cleanliness\"].fillna(data[\"review_scores_cleanliness\"].mean())\n",
    "#Se usa este método para obtener la media y mantener la distribucióin de los datos"
   ]
  },
  {
   "cell_type": "markdown",
   "metadata": {},
   "source": [
    "18. review_scores_checkin"
   ]
  },
  {
   "cell_type": "code",
   "execution_count": 77,
   "metadata": {},
   "outputs": [],
   "source": [
    "# Método de sustitución con la media\n",
    "data[\"review_scores_checkin\"] = data[\"review_scores_checkin\"].fillna(data[\"review_scores_checkin\"].mean())  \n",
    "#Se usa este método para obtener un promedio de los datos"
   ]
  },
  {
   "cell_type": "markdown",
   "metadata": {},
   "source": [
    "19. review_scores_communication"
   ]
  },
  {
   "cell_type": "code",
   "execution_count": 78,
   "metadata": {},
   "outputs": [],
   "source": [
    "# Método de sustitución con la media\n",
    "data[\"review_scores_communication\"] = data[\"review_scores_communication\"].fillna(data[\"review_scores_communication\"].mean()) \n",
    "#Se usa este método para tener el promedio y mantener la distribución de datos."
   ]
  },
  {
   "cell_type": "markdown",
   "metadata": {},
   "source": [
    "20. review_scores_location"
   ]
  },
  {
   "cell_type": "code",
   "execution_count": 79,
   "metadata": {},
   "outputs": [],
   "source": [
    "# Método de sustitución con la media\n",
    "data[\"review_scores_location\"] = data[\"review_scores_location\"].fillna(data[\"review_scores_location\"].mean())\n",
    "#Se usa este método para conocer la media de los datos"
   ]
  },
  {
   "cell_type": "markdown",
   "metadata": {},
   "source": [
    "21. review_scores_value"
   ]
  },
  {
   "cell_type": "code",
   "execution_count": 80,
   "metadata": {},
   "outputs": [],
   "source": [
    "# Método de sustitución con la media\n",
    "data[\"review_scores_value\"] = data[\"review_scores_value\"].fillna(data[\"review_scores_value\"].mean()) \n",
    "#Se usa este método para obtenet el promedio de los datos continuos"
   ]
  },
  {
   "cell_type": "markdown",
   "metadata": {},
   "source": [
    "22. license"
   ]
  },
  {
   "cell_type": "code",
   "execution_count": 81,
   "metadata": {},
   "outputs": [],
   "source": [
    "# Método de sustitución con un valor fijo\n",
    "data[\"license\"] = data[\"license\"].fillna(\"Sin licencia\") \n",
    "#Se usa este método para indicar que no hay información de licencia"
   ]
  },
  {
   "cell_type": "markdown",
   "metadata": {},
   "source": [
    "23. review_per_month"
   ]
  },
  {
   "cell_type": "code",
   "execution_count": 82,
   "metadata": {},
   "outputs": [],
   "source": [
    "# Método de sustitución con la media\n",
    "data[\"reviews_per_month\"] = data[\"reviews_per_month\"].fillna(data[\"reviews_per_month\"].mean()) \n",
    "#Se usa este método para obtener la media de los datos y mantener la distribución"
   ]
  },
  {
   "cell_type": "code",
   "execution_count": 83,
   "metadata": {},
   "outputs": [
    {
     "data": {
      "text/plain": [
       "id                                              0\n",
       "listing_url                                     0\n",
       "scrape_id                                       0\n",
       "last_scraped                                    0\n",
       "source                                          0\n",
       "                                               ..\n",
       "calculated_host_listings_count                  0\n",
       "calculated_host_listings_count_entire_homes     0\n",
       "calculated_host_listings_count_private_rooms    0\n",
       "calculated_host_listings_count_shared_rooms     0\n",
       "reviews_per_month                               0\n",
       "Length: 75, dtype: int64"
      ]
     },
     "execution_count": 83,
     "metadata": {},
     "output_type": "execute_result"
    }
   ],
   "source": [
    "datos_nulos = data.isnull().sum()\n",
    "datos_nulos"
   ]
  },
  {
   "cell_type": "code",
   "execution_count": 84,
   "metadata": {},
   "outputs": [],
   "source": [
    "data.to_csv(\"chicago_sin_valores_nulos.csv\")"
   ]
  }
 ],
 "metadata": {
  "kernelspec": {
   "display_name": "Python 3",
   "language": "python",
   "name": "python3"
  },
  "language_info": {
   "codemirror_mode": {
    "name": "ipython",
    "version": 3
   },
   "file_extension": ".py",
   "mimetype": "text/x-python",
   "name": "python",
   "nbconvert_exporter": "python",
   "pygments_lexer": "ipython3",
   "version": "3.13.1"
  }
 },
 "nbformat": 4,
 "nbformat_minor": 2
}
